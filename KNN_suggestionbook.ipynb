{
  "nbformat": 4,
  "nbformat_minor": 0,
  "metadata": {
    "colab": {
      "provenance": [],
      "mount_file_id": "1TpwHAxaA2f9Mx_GGz4CL2decq5bc90w9",
      "authorship_tag": "ABX9TyOv1YGIy5cSjJ6XszKxGgBv",
      "include_colab_link": true
    },
    "kernelspec": {
      "name": "python3",
      "display_name": "Python 3"
    },
    "language_info": {
      "name": "python"
    }
  },
  "cells": [
    {
      "cell_type": "markdown",
      "metadata": {
        "id": "view-in-github",
        "colab_type": "text"
      },
      "source": [
        "<a href=\"https://colab.research.google.com/github/AmirNBA9/Binance.API.Csharp.Client/blob/master/KNN_suggestionbook.ipynb\" target=\"_parent\"><img src=\"https://colab.research.google.com/assets/colab-badge.svg\" alt=\"Open In Colab\"/></a>"
      ]
    },
    {
      "cell_type": "code",
      "source": [
        "from google.colab import drive\n",
        "drive.mount('/content/drive')"
      ],
      "metadata": {
        "colab": {
          "base_uri": "https://localhost:8080/"
        },
        "id": "bx4CZZVga-f2",
        "outputId": "eeba1559-0e4d-4433-a8e9-92984e55002f"
      },
      "execution_count": 16,
      "outputs": [
        {
          "output_type": "stream",
          "name": "stdout",
          "text": [
            "Drive already mounted at /content/drive; to attempt to forcibly remount, call drive.mount(\"/content/drive\", force_remount=True).\n"
          ]
        }
      ]
    },
    {
      "cell_type": "code",
      "execution_count": 17,
      "metadata": {
        "colab": {
          "base_uri": "https://localhost:8080/"
        },
        "id": "B2GcVbHsa7q5",
        "outputId": "e4d3a1eb-19b7-4fe0-895a-8ad6243e4a1e"
      },
      "outputs": [
        {
          "output_type": "stream",
          "name": "stderr",
          "text": [
            "<ipython-input-17-2308e26404db>:7: DtypeWarning: Columns (3) have mixed types. Specify dtype option on import or set low_memory=False.\n",
            "  books = pd.read_csv('/content/drive/MyDrive/ML/BX-Books.csv', sep=';', on_bad_lines='skip', encoding= 'latin-1')\n"
          ]
        },
        {
          "output_type": "stream",
          "name": "stdout",
          "text": [
            "(271360, 8)\n",
            "['ISBN', 'bookTitle', 'bookAuthor', 'yearOfPublication', 'publisher', 'imageUrlS', 'imageUrlM', 'imageUrlL']\n",
            "(278858, 3)\n",
            "['userID', 'Location', 'Age']\n",
            "(1149780, 3)\n",
            "['userID', 'ISBN', 'bookRating']\n",
            "<class 'pandas.core.frame.DataFrame'>\n",
            "RangeIndex: 278858 entries, 0 to 278857\n",
            "Data columns (total 3 columns):\n",
            " #   Column    Non-Null Count   Dtype  \n",
            "---  ------    --------------   -----  \n",
            " 0   userID    278858 non-null  int64  \n",
            " 1   Location  278858 non-null  object \n",
            " 2   Age       168096 non-null  float64\n",
            "dtypes: float64(1), int64(1), object(1)\n",
            "memory usage: 6.4+ MB\n",
            "<class 'pandas.core.frame.DataFrame'>\n",
            "RangeIndex: 271360 entries, 0 to 271359\n",
            "Data columns (total 8 columns):\n",
            " #   Column             Non-Null Count   Dtype \n",
            "---  ------             --------------   ----- \n",
            " 0   ISBN               271360 non-null  object\n",
            " 1   bookTitle          271360 non-null  object\n",
            " 2   bookAuthor         271359 non-null  object\n",
            " 3   yearOfPublication  271360 non-null  object\n",
            " 4   publisher          271358 non-null  object\n",
            " 5   imageUrlS          271360 non-null  object\n",
            " 6   imageUrlM          271360 non-null  object\n",
            " 7   imageUrlL          271357 non-null  object\n",
            "dtypes: object(8)\n",
            "memory usage: 16.6+ MB\n",
            "<class 'pandas.core.frame.DataFrame'>\n",
            "RangeIndex: 1149780 entries, 0 to 1149779\n",
            "Data columns (total 3 columns):\n",
            " #   Column      Non-Null Count    Dtype \n",
            "---  ------      --------------    ----- \n",
            " 0   userID      1149780 non-null  int64 \n",
            " 1   ISBN        1149780 non-null  object\n",
            " 2   bookRating  1149780 non-null  int64 \n",
            "dtypes: int64(2), object(1)\n",
            "memory usage: 26.3+ MB\n"
          ]
        }
      ],
      "source": [
        "import pandas as pd\n",
        "import numpy as np\n",
        "import matplotlib.pyplot as plt\n",
        "\n",
        "# read data with seprate columns\n",
        "users = pd.read_csv('/content/drive/MyDrive/ML/BX-Users.csv', sep=';', on_bad_lines='skip', encoding= 'latin-1')\n",
        "books = pd.read_csv('/content/drive/MyDrive/ML/BX-Books.csv', sep=';', on_bad_lines='skip', encoding= 'latin-1')\n",
        "ratings = pd.read_csv(\"/content/drive/MyDrive/ML/BX-Book-Ratings.csv\", sep=';', on_bad_lines='skip', encoding= 'latin-1')\n",
        "\n",
        "# find and split columns\n",
        "books.columns = ['ISBN', 'bookTitle', 'bookAuthor', 'yearOfPublication', 'publisher', 'imageUrlS', 'imageUrlM', 'imageUrlL']\n",
        "users.columns = ['userID', 'Location', 'Age']\n",
        "ratings.columns = ['userID', 'ISBN', 'bookRating']\n",
        "\n",
        "print(books.shape)\n",
        "print(list(books.columns))\n",
        "print(users.shape)\n",
        "print(list(users.columns))\n",
        "print(ratings.shape)\n",
        "print(list(ratings.columns))\n",
        "\n",
        "users.info()\n",
        "books.info()\n",
        "ratings.info()"
      ]
    },
    {
      "cell_type": "markdown",
      "source": [
        "**بررسي ديتا**\n",
        "##كاربرها\n",
        "- RowCount: 272230 not null data\n",
        "- Structure: User-ID;\"Location\";\"Age\"\n",
        "\n",
        "##كتاب ها\n",
        "- RowCount: 228148 not null data\n",
        "- Structure: ISBN;\"Book-Title\";\"Book-Author\";\"Year-Of-Publication\";\"Publisher\";\"Image-URL-S\";\"Image-URL-M\";\"Image-URL-L\"\n",
        "\n",
        "##امتيازات كتاب ها\n",
        "- RowCount: 1149775 not null record\n",
        "- Structure: User-ID;\"ISBN\";\"Book-Rating\"\n",
        "\n",
        "# مطالعه بيشتر ديتاها"
      ],
      "metadata": {
        "id": "781ohdOzAK2X"
      }
    },
    {
      "cell_type": "code",
      "source": [
        "# پلات كردن داده هاي يونيك براي رتبه كتاب ها\n",
        "# تبدیل داده‌ها به یک DataFrame\n",
        "df = pd.DataFrame(ratings)\n",
        "\n",
        "# رسم نمودار توزیع امتیازها\n",
        "plt.hist(df[\"bookRating\"], bins=[0,1, 2, 3, 4, 5, 6,7,8,9,10], edgecolor='blue')\n",
        "plt.xlabel('Ratings')\n",
        "plt.ylabel('Frequency')\n",
        "plt.title('Distribution of Book Ratings')\n",
        "plt.show()"
      ],
      "metadata": {
        "colab": {
          "base_uri": "https://localhost:8080/",
          "height": 489
        },
        "id": "otFCEz2kzSYJ",
        "outputId": "bcd07ea3-174e-47f8-8730-5d10f20ab2ef"
      },
      "execution_count": 18,
      "outputs": [
        {
          "output_type": "display_data",
          "data": {
            "text/plain": [
              "<Figure size 640x480 with 1 Axes>"
            ],
            "image/png": "[encoded data removed]"
          },
          "metadata": {}
        }
      ]
    },
    {
      "cell_type": "code",
      "source": [
        "plt.rc(\"font\", size=15)\n",
        "ratings.bookRating.value_counts(sort=True).plot(kind='bar')\n",
        "plt.title('Rating Distribution\\n')\n",
        "plt.xlabel('Rating')\n",
        "plt.ylabel('Count')\n",
        "plt.savefig('system1.png', bbox_inches='tight')\n",
        "plt.show()"
      ],
      "metadata": {
        "colab": {
          "base_uri": "https://localhost:8080/",
          "height": 523
        },
        "id": "AqQ6ixLZ6i1T",
        "outputId": "d9c735e9-4286-4abc-e339-5fca5266fcfb"
      },
      "execution_count": 19,
      "outputs": [
        {
          "output_type": "display_data",
          "data": {
            "text/plain": [
              "<Figure size 640x480 with 1 Axes>"
            ],
            "image/png": "[encoded data removed]"
          },
          "metadata": {}
        }
      ]
    },
    {
      "cell_type": "code",
      "source": [
        "print(books.shape)\n",
        "print(list(books.columns))\n",
        "\n",
        "print(users.shape)\n",
        "print(list(users.columns))\n",
        "\n",
        "print(ratings.shape)\n",
        "print(list(ratings.columns))"
      ],
      "metadata": {
        "colab": {
          "base_uri": "https://localhost:8080/"
        },
        "id": "umg58zse60uO",
        "outputId": "4bc35771-5ab8-4e2c-b5bb-3eac341e404e"
      },
      "execution_count": 20,
      "outputs": [
        {
          "output_type": "stream",
          "name": "stdout",
          "text": [
            "(271360, 8)\n",
            "['ISBN', 'bookTitle', 'bookAuthor', 'yearOfPublication', 'publisher', 'imageUrlS', 'imageUrlM', 'imageUrlL']\n",
            "(278858, 3)\n",
            "['userID', 'Location', 'Age']\n",
            "(1149780, 3)\n",
            "['userID', 'ISBN', 'bookRating']\n"
          ]
        }
      ]
    },
    {
      "cell_type": "code",
      "source": [
        "# Join ratings and books dataframes\n",
        "rating_books = pd.merge(ratings,books,on='ISBN')\n",
        "rating_users = pd.merge(ratings,users,on='userID')\n",
        "\n",
        "# Shape of the data\n",
        "rating_books.shape\n",
        "rating_users.shape\n",
        "\n",
        "# Take 80 % data as sample\n",
        "rating_books_sample = rating_books.sample(frac=.01, random_state=1)\n",
        "\n",
        "# Shape of the sample data\n",
        "rating_books_sample.shape\n",
        "\n",
        "# Create Item-user matrix using pivot_table()\n",
        "rating_books_pivot = rating_books_sample.pivot_table(index='bookTitle', columns='userID', values='bookRating').fillna(0)\n",
        "\n",
        "# Show top-5 records\n",
        "rating_books_pivot.head()"
      ],
      "metadata": {
        "id": "fGcmw-ZKIRnI",
        "colab": {
          "base_uri": "https://localhost:8080/",
          "height": 284
        },
        "outputId": "bd32149e-a62e-4369-9fa5-8b3060b650f5"
      },
      "execution_count": 21,
      "outputs": [
        {
          "output_type": "execute_result",
          "data": {
            "text/plain": [
              "userID                                              254     432     507     \\\n",
              "bookTitle                                                                    \n",
              " Garfield Bigger and Better (Garfield (Numbered...     0.0     0.0     0.0   \n",
              " Good Wives: Image and Reality in the Lives of ...     0.0     0.0     0.0   \n",
              " Little Comic Shop of Horrors (Give Yourself Go...     0.0     0.0     0.0   \n",
              " Summonings: Books of Magic, Vol. 2                    0.0     0.0     0.0   \n",
              "' Mein verwundetes Herz'. Das Leben der Lilli J...     0.0     0.0     0.0   \n",
              "\n",
              "userID                                              625     638     726     \\\n",
              "bookTitle                                                                    \n",
              " Garfield Bigger and Better (Garfield (Numbered...     0.0     0.0     0.0   \n",
              " Good Wives: Image and Reality in the Lives of ...     0.0     0.0     0.0   \n",
              " Little Comic Shop of Horrors (Give Yourself Go...     0.0     0.0     0.0   \n",
              " Summonings: Books of Magic, Vol. 2                    0.0     0.0     0.0   \n",
              "' Mein verwundetes Herz'. Das Leben der Lilli J...     0.0     0.0     0.0   \n",
              "\n",
              "userID                                              730     805     834     \\\n",
              "bookTitle                                                                    \n",
              " Garfield Bigger and Better (Garfield (Numbered...     0.0     0.0     0.0   \n",
              " Good Wives: Image and Reality in the Lives of ...     0.0     0.0     0.0   \n",
              " Little Comic Shop of Horrors (Give Yourself Go...     0.0     0.0     0.0   \n",
              " Summonings: Books of Magic, Vol. 2                    0.0     0.0     0.0   \n",
              "' Mein verwundetes Herz'. Das Leben der Lilli J...     0.0     0.0     0.0   \n",
              "\n",
              "userID                                              876     ...  278314  \\\n",
              "bookTitle                                                   ...           \n",
              " Garfield Bigger and Better (Garfield (Numbered...     0.0  ...     0.0   \n",
              " Good Wives: Image and Reality in the Lives of ...     0.0  ...     0.0   \n",
              " Little Comic Shop of Horrors (Give Yourself Go...     0.0  ...     0.0   \n",
              " Summonings: Books of Magic, Vol. 2                    0.0  ...     0.0   \n",
              "' Mein verwundetes Herz'. Das Leben der Lilli J...     0.0  ...     0.0   \n",
              "\n",
              "userID                                              278418  278554  278563  \\\n",
              "bookTitle                                                                    \n",
              " Garfield Bigger and Better (Garfield (Numbered...     0.0     0.0     0.0   \n",
              " Good Wives: Image and Reality in the Lives of ...     0.0     0.0     0.0   \n",
              " Little Comic Shop of Horrors (Give Yourself Go...     0.0     0.0     0.0   \n",
              " Summonings: Books of Magic, Vol. 2                    0.0     0.0     0.0   \n",
              "' Mein verwundetes Herz'. Das Leben der Lilli J...     0.0     0.0     0.0   \n",
              "\n",
              "userID                                              278582  278663  278771  \\\n",
              "bookTitle                                                                    \n",
              " Garfield Bigger and Better (Garfield (Numbered...     0.0     0.0     0.0   \n",
              " Good Wives: Image and Reality in the Lives of ...     0.0     0.0     0.0   \n",
              " Little Comic Shop of Horrors (Give Yourself Go...     0.0     0.0     0.0   \n",
              " Summonings: Books of Magic, Vol. 2                    0.0     0.0     0.0   \n",
              "' Mein verwundetes Herz'. Das Leben der Lilli J...     0.0     0.0     0.0   \n",
              "\n",
              "userID                                              278838  278843  278851  \n",
              "bookTitle                                                                   \n",
              " Garfield Bigger and Better (Garfield (Numbered...     0.0     0.0     0.0  \n",
              " Good Wives: Image and Reality in the Lives of ...     0.0     0.0     0.0  \n",
              " Little Comic Shop of Horrors (Give Yourself Go...     0.0     0.0     0.0  \n",
              " Summonings: Books of Magic, Vol. 2                    0.0     0.0     0.0  \n",
              "' Mein verwundetes Herz'. Das Leben der Lilli J...     0.0     0.0     0.0  \n",
              "\n",
              "[5 rows x 5231 columns]"
            ],
            "text/html": [
              "\n",
              "  <div id=\"df-de41cc8e-7557-478b-9bf8-bcf793bf3685\" class=\"colab-df-container\">\n",
              "    <div>\n",
              "<style scoped>\n",
              "    .dataframe tbody tr th:only-of-type {\n",
              "        vertical-align: middle;\n",
              "    }\n",
              "\n",
              "    .dataframe tbody tr th {\n",
              "        vertical-align: top;\n",
              "    }\n",
              "\n",
              "    .dataframe thead th {\n",
              "        text-align: right;\n",
              "    }\n",
              "</style>\n",
              "<table border=\"1\" class=\"dataframe\">\n",
              "  <thead>\n",
              "    <tr style=\"text-align: right;\">\n",
              "      <th>userID</th>\n",
              "      <th>254</th>\n",
              "      <th>432</th>\n",
              "      <th>507</th>\n",
              "      <th>625</th>\n",
              "      <th>638</th>\n",
              "      <th>726</th>\n",
              "      <th>730</th>\n",
              "      <th>805</th>\n",
              "      <th>834</th>\n",
              "      <th>876</th>\n",
              "      <th>...</th>\n",
              "      <th>278314</th>\n",
              "      <th>278418</th>\n",
              "      <th>278554</th>\n",
              "      <th>278563</th>\n",
              "      <th>278582</th>\n",
              "      <th>278663</th>\n",
              "      <th>278771</th>\n",
              "      <th>278838</th>\n",
              "      <th>278843</th>\n",
              "      <th>278851</th>\n",
              "    </tr>\n",
              "    <tr>\n",
              "      <th>bookTitle</th>\n",
              "      <th></th>\n",
              "      <th></th>\n",
              "      <th></th>\n",
              "      <th></th>\n",
              "      <th></th>\n",
              "      <th></th>\n",
              "      <th></th>\n",
              "      <th></th>\n",
              "      <th></th>\n",
              "      <th></th>\n",
              "      <th></th>\n",
              "      <th></th>\n",
              "      <th></th>\n",
              "      <th></th>\n",
              "      <th></th>\n",
              "      <th></th>\n",
              "      <th></th>\n",
              "      <th></th>\n",
              "      <th></th>\n",
              "      <th></th>\n",
              "      <th></th>\n",
              "    </tr>\n",
              "  </thead>\n",
              "  <tbody>\n",
              "    <tr>\n",
              "      <th>Garfield Bigger and Better (Garfield (Numbered Paperback))</th>\n",
              "      <td>0.0</td>\n",
              "      <td>0.0</td>\n",
              "      <td>0.0</td>\n",
              "      <td>0.0</td>\n",
              "      <td>0.0</td>\n",
              "      <td>0.0</td>\n",
              "      <td>0.0</td>\n",
              "      <td>0.0</td>\n",
              "      <td>0.0</td>\n",
              "      <td>0.0</td>\n",
              "      <td>...</td>\n",
              "      <td>0.0</td>\n",
              "      <td>0.0</td>\n",
              "      <td>0.0</td>\n",
              "      <td>0.0</td>\n",
              "      <td>0.0</td>\n",
              "      <td>0.0</td>\n",
              "      <td>0.0</td>\n",
              "      <td>0.0</td>\n",
              "      <td>0.0</td>\n",
              "      <td>0.0</td>\n",
              "    </tr>\n",
              "    <tr>\n",
              "      <th>Good Wives: Image and Reality in the Lives of Women in Northern New England, 1650-1750</th>\n",
              "      <td>0.0</td>\n",
              "      <td>0.0</td>\n",
              "      <td>0.0</td>\n",
              "      <td>0.0</td>\n",
              "      <td>0.0</td>\n",
              "      <td>0.0</td>\n",
              "      <td>0.0</td>\n",
              "      <td>0.0</td>\n",
              "      <td>0.0</td>\n",
              "      <td>0.0</td>\n",
              "      <td>...</td>\n",
              "      <td>0.0</td>\n",
              "      <td>0.0</td>\n",
              "      <td>0.0</td>\n",
              "      <td>0.0</td>\n",
              "      <td>0.0</td>\n",
              "      <td>0.0</td>\n",
              "      <td>0.0</td>\n",
              "      <td>0.0</td>\n",
              "      <td>0.0</td>\n",
              "      <td>0.0</td>\n",
              "    </tr>\n",
              "    <tr>\n",
              "      <th>Little Comic Shop of Horrors (Give Yourself Goosebumps, Book 17)</th>\n",
              "      <td>0.0</td>\n",
              "      <td>0.0</td>\n",
              "      <td>0.0</td>\n",
              "      <td>0.0</td>\n",
              "      <td>0.0</td>\n",
              "      <td>0.0</td>\n",
              "      <td>0.0</td>\n",
              "      <td>0.0</td>\n",
              "      <td>0.0</td>\n",
              "      <td>0.0</td>\n",
              "      <td>...</td>\n",
              "      <td>0.0</td>\n",
              "      <td>0.0</td>\n",
              "      <td>0.0</td>\n",
              "      <td>0.0</td>\n",
              "      <td>0.0</td>\n",
              "      <td>0.0</td>\n",
              "      <td>0.0</td>\n",
              "      <td>0.0</td>\n",
              "      <td>0.0</td>\n",
              "      <td>0.0</td>\n",
              "    </tr>\n",
              "    <tr>\n",
              "      <th>Summonings: Books of Magic, Vol. 2</th>\n",
              "      <td>0.0</td>\n",
              "      <td>0.0</td>\n",
              "      <td>0.0</td>\n",
              "      <td>0.0</td>\n",
              "      <td>0.0</td>\n",
              "      <td>0.0</td>\n",
              "      <td>0.0</td>\n",
              "      <td>0.0</td>\n",
              "      <td>0.0</td>\n",
              "      <td>0.0</td>\n",
              "      <td>...</td>\n",
              "      <td>0.0</td>\n",
              "      <td>0.0</td>\n",
              "      <td>0.0</td>\n",
              "      <td>0.0</td>\n",
              "      <td>0.0</td>\n",
              "      <td>0.0</td>\n",
              "      <td>0.0</td>\n",
              "      <td>0.0</td>\n",
              "      <td>0.0</td>\n",
              "      <td>0.0</td>\n",
              "    </tr>\n",
              "    <tr>\n",
              "      <th>' Mein verwundetes Herz'. Das Leben der Lilli Jahn 1900 - 1944.</th>\n",
              "      <td>0.0</td>\n",
              "      <td>0.0</td>\n",
              "      <td>0.0</td>\n",
              "      <td>0.0</td>\n",
              "      <td>0.0</td>\n",
              "      <td>0.0</td>\n",
              "      <td>0.0</td>\n",
              "      <td>0.0</td>\n",
              "      <td>0.0</td>\n",
              "      <td>0.0</td>\n",
              "      <td>...</td>\n",
              "      <td>0.0</td>\n",
              "      <td>0.0</td>\n",
              "      <td>0.0</td>\n",
              "      <td>0.0</td>\n",
              "      <td>0.0</td>\n",
              "      <td>0.0</td>\n",
              "      <td>0.0</td>\n",
              "      <td>0.0</td>\n",
              "      <td>0.0</td>\n",
              "      <td>0.0</td>\n",
              "    </tr>\n",
              "  </tbody>\n",
              "</table>\n",
              "<p>5 rows × 5231 columns</p>\n",
              "</div>\n",
              "    <div class=\"colab-df-buttons\">\n",
              "\n",
              "  <div class=\"colab-df-container\">\n",
              "    <button class=\"colab-df-convert\" onclick=\"convertToInteractive('df-de41cc8e-7557-478b-9bf8-bcf793bf3685')\"\n",
              "            title=\"Convert this dataframe to an interactive table.\"\n",
              "            style=\"display:none;\">\n",
              "\n",
              "  <svg xmlns=\"http://www.w3.org/2000/svg\" height=\"24px\" viewBox=\"0 -960 960 960\">\n",
              "    <path d=\"M120-120v-720h720v720H120Zm60-500h600v-160H180v160Zm220 220h160v-160H400v160Zm0 220h160v-160H400v160ZM180-400h160v-160H180v160Zm440 0h160v-160H620v160ZM180-180h160v-160H180v160Zm440 0h160v-160H620v160Z\"/>\n",
              "  </svg>\n",
              "    </button>\n",
              "\n",
              "  <style>\n",
              "    .colab-df-container {\n",
              "      display:flex;\n",
              "      gap: 12px;\n",
              "    }\n",
              "\n",
              "    .colab-df-convert {\n",
              "      background-color: #E8F0FE;\n",
              "      border: none;\n",
              "      border-radius: 50%;\n",
              "      cursor: pointer;\n",
              "      display: none;\n",
              "      fill: #1967D2;\n",
              "      height: 32px;\n",
              "      padding: 0 0 0 0;\n",
              "      width: 32px;\n",
              "    }\n",
              "\n",
              "    .colab-df-convert:hover {\n",
              "      background-color: #E2EBFA;\n",
              "      box-shadow: 0px 1px 2px rgba(60, 64, 67, 0.3), 0px 1px 3px 1px rgba(60, 64, 67, 0.15);\n",
              "      fill: #174EA6;\n",
              "    }\n",
              "\n",
              "    .colab-df-buttons div {\n",
              "      margin-bottom: 4px;\n",
              "    }\n",
              "\n",
              "    [theme=dark] .colab-df-convert {\n",
              "      background-color: #3B4455;\n",
              "      fill: #D2E3FC;\n",
              "    }\n",
              "\n",
              "    [theme=dark] .colab-df-convert:hover {\n",
              "      background-color: #434B5C;\n",
              "      box-shadow: 0px 1px 3px 1px rgba(0, 0, 0, 0.15);\n",
              "      filter: drop-shadow(0px 1px 2px rgba(0, 0, 0, 0.3));\n",
              "      fill: #FFFFFF;\n",
              "    }\n",
              "  </style>\n",
              "\n",
              "    <script>\n",
              "      const buttonEl =\n",
              "        document.querySelector('#df-de41cc8e-7557-478b-9bf8-bcf793bf3685 button.colab-df-convert');\n",
              "      buttonEl.style.display =\n",
              "        google.colab.kernel.accessAllowed ? 'block' : 'none';\n",
              "\n",
              "      async function convertToInteractive(key) {\n",
              "        const element = document.querySelector('#df-de41cc8e-7557-478b-9bf8-bcf793bf3685');\n",
              "        const dataTable =\n",
              "          await google.colab.kernel.invokeFunction('convertToInteractive',\n",
              "                                                    [key], {});\n",
              "        if (!dataTable) return;\n",
              "\n",
              "        const docLinkHtml = 'Like what you see? Visit the ' +\n",
              "          '<a target=\"_blank\" href=https://colab.research.google.com/notebooks/data_table.ipynb>data table notebook</a>'\n",
              "          + ' to learn more about interactive tables.';\n",
              "        element.innerHTML = '';\n",
              "        dataTable['output_type'] = 'display_data';\n",
              "        await google.colab.output.renderOutput(dataTable, element);\n",
              "        const docLink = document.createElement('div');\n",
              "        docLink.innerHTML = docLinkHtml;\n",
              "        element.appendChild(docLink);\n",
              "      }\n",
              "    </script>\n",
              "  </div>\n",
              "\n",
              "\n",
              "<div id=\"df-d06bd301-f820-46ef-88b4-7c3000f24083\">\n",
              "  <button class=\"colab-df-quickchart\" onclick=\"quickchart('df-d06bd301-f820-46ef-88b4-7c3000f24083')\"\n",
              "            title=\"Suggest charts\"\n",
              "            style=\"display:none;\">\n",
              "\n",
              "<svg xmlns=\"http://www.w3.org/2000/svg\" height=\"24px\"viewBox=\"0 0 24 24\"\n",
              "     width=\"24px\">\n",
              "    <g>\n",
              "        <path d=\"M19 3H5c-1.1 0-2 .9-2 2v14c0 1.1.9 2 2 2h14c1.1 0 2-.9 2-2V5c0-1.1-.9-2-2-2zM9 17H7v-7h2v7zm4 0h-2V7h2v10zm4 0h-2v-4h2v4z\"/>\n",
              "    </g>\n",
              "</svg>\n",
              "  </button>\n",
              "\n",
              "<style>\n",
              "  .colab-df-quickchart {\n",
              "      --bg-color: #E8F0FE;\n",
              "      --fill-color: #1967D2;\n",
              "      --hover-bg-color: #E2EBFA;\n",
              "      --hover-fill-color: #174EA6;\n",
              "      --disabled-fill-color: #AAA;\n",
              "      --disabled-bg-color: #DDD;\n",
              "  }\n",
              "\n",
              "  [theme=dark] .colab-df-quickchart {\n",
              "      --bg-color: #3B4455;\n",
              "      --fill-color: #D2E3FC;\n",
              "      --hover-bg-color: #434B5C;\n",
              "      --hover-fill-color: #FFFFFF;\n",
              "      --disabled-bg-color: #3B4455;\n",
              "      --disabled-fill-color: #666;\n",
              "  }\n",
              "\n",
              "  .colab-df-quickchart {\n",
              "    background-color: var(--bg-color);\n",
              "    border: none;\n",
              "    border-radius: 50%;\n",
              "    cursor: pointer;\n",
              "    display: none;\n",
              "    fill: var(--fill-color);\n",
              "    height: 32px;\n",
              "    padding: 0;\n",
              "    width: 32px;\n",
              "  }\n",
              "\n",
              "  .colab-df-quickchart:hover {\n",
              "    background-color: var(--hover-bg-color);\n",
              "    box-shadow: 0 1px 2px rgba(60, 64, 67, 0.3), 0 1px 3px 1px rgba(60, 64, 67, 0.15);\n",
              "    fill: var(--button-hover-fill-color);\n",
              "  }\n",
              "\n",
              "  .colab-df-quickchart-complete:disabled,\n",
              "  .colab-df-quickchart-complete:disabled:hover {\n",
              "    background-color: var(--disabled-bg-color);\n",
              "    fill: var(--disabled-fill-color);\n",
              "    box-shadow: none;\n",
              "  }\n",
              "\n",
              "  .colab-df-spinner {\n",
              "    border: 2px solid var(--fill-color);\n",
              "    border-color: transparent;\n",
              "    border-bottom-color: var(--fill-color);\n",
              "    animation:\n",
              "      spin 1s steps(1) infinite;\n",
              "  }\n",
              "\n",
              "  @keyframes spin {\n",
              "    0% {\n",
              "      border-color: transparent;\n",
              "      border-bottom-color: var(--fill-color);\n",
              "      border-left-color: var(--fill-color);\n",
              "    }\n",
              "    20% {\n",
              "      border-color: transparent;\n",
              "      border-left-color: var(--fill-color);\n",
              "      border-top-color: var(--fill-color);\n",
              "    }\n",
              "    30% {\n",
              "      border-color: transparent;\n",
              "      border-left-color: var(--fill-color);\n",
              "      border-top-color: var(--fill-color);\n",
              "      border-right-color: var(--fill-color);\n",
              "    }\n",
              "    40% {\n",
              "      border-color: transparent;\n",
              "      border-right-color: var(--fill-color);\n",
              "      border-top-color: var(--fill-color);\n",
              "    }\n",
              "    60% {\n",
              "      border-color: transparent;\n",
              "      border-right-color: var(--fill-color);\n",
              "    }\n",
              "    80% {\n",
              "      border-color: transparent;\n",
              "      border-right-color: var(--fill-color);\n",
              "      border-bottom-color: var(--fill-color);\n",
              "    }\n",
              "    90% {\n",
              "      border-color: transparent;\n",
              "      border-bottom-color: var(--fill-color);\n",
              "    }\n",
              "  }\n",
              "</style>\n",
              "\n",
              "  <script>\n",
              "    async function quickchart(key) {\n",
              "      const quickchartButtonEl =\n",
              "        document.querySelector('#' + key + ' button');\n",
              "      quickchartButtonEl.disabled = true;  // To prevent multiple clicks.\n",
              "      quickchartButtonEl.classList.add('colab-df-spinner');\n",
              "      try {\n",
              "        const charts = await google.colab.kernel.invokeFunction(\n",
              "            'suggestCharts', [key], {});\n",
              "      } catch (error) {\n",
              "        console.error('Error during call to suggestCharts:', error);\n",
              "      }\n",
              "      quickchartButtonEl.classList.remove('colab-df-spinner');\n",
              "      quickchartButtonEl.classList.add('colab-df-quickchart-complete');\n",
              "    }\n",
              "    (() => {\n",
              "      let quickchartButtonEl =\n",
              "        document.querySelector('#df-d06bd301-f820-46ef-88b4-7c3000f24083 button');\n",
              "      quickchartButtonEl.style.display =\n",
              "        google.colab.kernel.accessAllowed ? 'block' : 'none';\n",
              "    })();\n",
              "  </script>\n",
              "</div>\n",
              "    </div>\n",
              "  </div>\n"
            ]
          },
          "metadata": {},
          "execution_count": 21
        }
      ]
    },
    {
      "cell_type": "code",
      "source": [
        "# تعداد امتیازاتی که هر کتاب دریافت کرده را چاپ کنید\n",
        "for books, ratings in rating_books.items():\n",
        "    print(f\"کتاب {books} تعداد امتیازات: {ratings}\")"
      ],
      "metadata": {
        "colab": {
          "base_uri": "https://localhost:8080/"
        },
        "id": "ZJjTT3vFvHy1",
        "outputId": "f009f470-a484-45a7-a84a-a801cdd15089"
      },
      "execution_count": 22,
      "outputs": [
        {
          "output_type": "stream",
          "name": "stdout",
          "text": [
            "کتاب userID تعداد امتیازات: 0          276725\n",
            "1            2313\n",
            "2            6543\n",
            "3            8680\n",
            "4           10314\n",
            "            ...  \n",
            "1031131    276688\n",
            "1031132    276688\n",
            "1031133    276690\n",
            "1031134    276704\n",
            "1031135    276704\n",
            "Name: userID, Length: 1031136, dtype: int64\n",
            "کتاب ISBN تعداد امتیازات: 0          034545104X\n",
            "1          034545104X\n",
            "2          034545104X\n",
            "3          034545104X\n",
            "4          034545104X\n",
            "              ...    \n",
            "1031131    0517145553\n",
            "1031132    1575660792\n",
            "1031133    0590907301\n",
            "1031134    0679752714\n",
            "1031135    0806917695\n",
            "Name: ISBN, Length: 1031136, dtype: object\n",
            "کتاب bookRating تعداد امتیازات: 0          0\n",
            "1          5\n",
            "2          0\n",
            "3          5\n",
            "4          9\n",
            "          ..\n",
            "1031131    0\n",
            "1031132    7\n",
            "1031133    0\n",
            "1031134    0\n",
            "1031135    5\n",
            "Name: bookRating, Length: 1031136, dtype: int64\n",
            "کتاب bookTitle تعداد امتیازات: 0                                       Flesh Tones: A Novel\n",
            "1                                       Flesh Tones: A Novel\n",
            "2                                       Flesh Tones: A Novel\n",
            "3                                       Flesh Tones: A Novel\n",
            "4                                       Flesh Tones: A Novel\n",
            "                                 ...                        \n",
            "1031131                                      Mostly Harmless\n",
            "1031132                                          Gray Matter\n",
            "1031133    Triplet Trouble and the Class Trip (Triplet Tr...\n",
            "1031134    A Desert of Pure Feeling (Vintage Contemporaries)\n",
            "1031135    Perplexing Lateral Thinking Puzzles: Scholasti...\n",
            "Name: bookTitle, Length: 1031136, dtype: object\n",
            "کتاب bookAuthor تعداد امتیازات: 0               M. J. Rose\n",
            "1               M. J. Rose\n",
            "2               M. J. Rose\n",
            "3               M. J. Rose\n",
            "4               M. J. Rose\n",
            "                ...       \n",
            "1031131      Douglas Adams\n",
            "1031132    Shirley Kennett\n",
            "1031133       Debbie Dadey\n",
            "1031134     Judith Freeman\n",
            "1031135        Paul Sloane\n",
            "Name: bookAuthor, Length: 1031136, dtype: object\n",
            "کتاب yearOfPublication تعداد امتیازات: 0          2002\n",
            "1          2002\n",
            "2          2002\n",
            "3          2002\n",
            "4          2002\n",
            "           ... \n",
            "1031131    1995\n",
            "1031132    1996\n",
            "1031133    1997\n",
            "1031134    1997\n",
            "1031135    1997\n",
            "Name: yearOfPublication, Length: 1031136, dtype: object\n",
            "کتاب publisher تعداد امتیازات: 0                           Ballantine Books\n",
            "1                           Ballantine Books\n",
            "2                           Ballantine Books\n",
            "3                           Ballantine Books\n",
            "4                           Ballantine Books\n",
            "                         ...                \n",
            "1031131               Random House Value Pub\n",
            "1031132    Kensington Publishing Corporation\n",
            "1031133                                Apple\n",
            "1031134                    Vintage Books USA\n",
            "1031135                  Sterling Publishing\n",
            "Name: publisher, Length: 1031136, dtype: object\n",
            "کتاب imageUrlS تعداد امتیازات: 0          http://images.amazon.com/images/P/034545104X.0...\n",
            "1          http://images.amazon.com/images/P/034545104X.0...\n",
            "2          http://images.amazon.com/images/P/034545104X.0...\n",
            "3          http://images.amazon.com/images/P/034545104X.0...\n",
            "4          http://images.amazon.com/images/P/034545104X.0...\n",
            "                                 ...                        \n",
            "1031131    http://images.amazon.com/images/P/0517145553.0...\n",
            "1031132    http://images.amazon.com/images/P/1575660792.0...\n",
            "1031133    http://images.amazon.com/images/P/0590907301.0...\n",
            "1031134    http://images.amazon.com/images/P/0679752714.0...\n",
            "1031135    http://images.amazon.com/images/P/0806917695.0...\n",
            "Name: imageUrlS, Length: 1031136, dtype: object\n",
            "کتاب imageUrlM تعداد امتیازات: 0          http://images.amazon.com/images/P/034545104X.0...\n",
            "1          http://images.amazon.com/images/P/034545104X.0...\n",
            "2          http://images.amazon.com/images/P/034545104X.0...\n",
            "3          http://images.amazon.com/images/P/034545104X.0...\n",
            "4          http://images.amazon.com/images/P/034545104X.0...\n",
            "                                 ...                        \n",
            "1031131    http://images.amazon.com/images/P/0517145553.0...\n",
            "1031132    http://images.amazon.com/images/P/1575660792.0...\n",
            "1031133    http://images.amazon.com/images/P/0590907301.0...\n",
            "1031134    http://images.amazon.com/images/P/0679752714.0...\n",
            "1031135    http://images.amazon.com/images/P/0806917695.0...\n",
            "Name: imageUrlM, Length: 1031136, dtype: object\n",
            "کتاب imageUrlL تعداد امتیازات: 0          http://images.amazon.com/images/P/034545104X.0...\n",
            "1          http://images.amazon.com/images/P/034545104X.0...\n",
            "2          http://images.amazon.com/images/P/034545104X.0...\n",
            "3          http://images.amazon.com/images/P/034545104X.0...\n",
            "4          http://images.amazon.com/images/P/034545104X.0...\n",
            "                                 ...                        \n",
            "1031131    http://images.amazon.com/images/P/0517145553.0...\n",
            "1031132    http://images.amazon.com/images/P/1575660792.0...\n",
            "1031133    http://images.amazon.com/images/P/0590907301.0...\n",
            "1031134    http://images.amazon.com/images/P/0679752714.0...\n",
            "1031135    http://images.amazon.com/images/P/0806917695.0...\n",
            "Name: imageUrlL, Length: 1031136, dtype: object\n"
          ]
        }
      ]
    },
    {
      "cell_type": "code",
      "source": [
        "# تعداد امتیازاتی که هر کاربر برای کتاب ها ثبت کرده است را چاپ کنید\n",
        "for user, ratings in rating_users.items():\n",
        "    print(f\"کاربر {users} تعداد امتیازات: {len(ratings)}\")"
      ],
      "metadata": {
        "colab": {
          "base_uri": "https://localhost:8080/"
        },
        "id": "kK5aHz_3wZFs",
        "outputId": "bd818a79-e82f-4882-cfd9-5a078ab166bb"
      },
      "execution_count": 23,
      "outputs": [
        {
          "output_type": "stream",
          "name": "stdout",
          "text": [
            "کاربر         userID                            Location   Age\n",
            "0            1                  nyc, new york, usa   NaN\n",
            "1            2           stockton, california, usa  18.0\n",
            "2            3     moscow, yukon territory, russia   NaN\n",
            "3            4           porto, v.n.gaia, portugal  17.0\n",
            "4            5  farnborough, hants, united kingdom   NaN\n",
            "...        ...                                 ...   ...\n",
            "278853  278854               portland, oregon, usa   NaN\n",
            "278854  278855  tacoma, washington, united kingdom  50.0\n",
            "278855  278856           brampton, ontario, canada   NaN\n",
            "278856  278857           knoxville, tennessee, usa   NaN\n",
            "278857  278858                dublin, n/a, ireland   NaN\n",
            "\n",
            "[278858 rows x 3 columns] تعداد امتیازات: 1149780\n",
            "کاربر         userID                            Location   Age\n",
            "0            1                  nyc, new york, usa   NaN\n",
            "1            2           stockton, california, usa  18.0\n",
            "2            3     moscow, yukon territory, russia   NaN\n",
            "3            4           porto, v.n.gaia, portugal  17.0\n",
            "4            5  farnborough, hants, united kingdom   NaN\n",
            "...        ...                                 ...   ...\n",
            "278853  278854               portland, oregon, usa   NaN\n",
            "278854  278855  tacoma, washington, united kingdom  50.0\n",
            "278855  278856           brampton, ontario, canada   NaN\n",
            "278856  278857           knoxville, tennessee, usa   NaN\n",
            "278857  278858                dublin, n/a, ireland   NaN\n",
            "\n",
            "[278858 rows x 3 columns] تعداد امتیازات: 1149780\n",
            "کاربر         userID                            Location   Age\n",
            "0            1                  nyc, new york, usa   NaN\n",
            "1            2           stockton, california, usa  18.0\n",
            "2            3     moscow, yukon territory, russia   NaN\n",
            "3            4           porto, v.n.gaia, portugal  17.0\n",
            "4            5  farnborough, hants, united kingdom   NaN\n",
            "...        ...                                 ...   ...\n",
            "278853  278854               portland, oregon, usa   NaN\n",
            "278854  278855  tacoma, washington, united kingdom  50.0\n",
            "278855  278856           brampton, ontario, canada   NaN\n",
            "278856  278857           knoxville, tennessee, usa   NaN\n",
            "278857  278858                dublin, n/a, ireland   NaN\n",
            "\n",
            "[278858 rows x 3 columns] تعداد امتیازات: 1149780\n",
            "کاربر         userID                            Location   Age\n",
            "0            1                  nyc, new york, usa   NaN\n",
            "1            2           stockton, california, usa  18.0\n",
            "2            3     moscow, yukon territory, russia   NaN\n",
            "3            4           porto, v.n.gaia, portugal  17.0\n",
            "4            5  farnborough, hants, united kingdom   NaN\n",
            "...        ...                                 ...   ...\n",
            "278853  278854               portland, oregon, usa   NaN\n",
            "278854  278855  tacoma, washington, united kingdom  50.0\n",
            "278855  278856           brampton, ontario, canada   NaN\n",
            "278856  278857           knoxville, tennessee, usa   NaN\n",
            "278857  278858                dublin, n/a, ireland   NaN\n",
            "\n",
            "[278858 rows x 3 columns] تعداد امتیازات: 1149780\n",
            "کاربر         userID                            Location   Age\n",
            "0            1                  nyc, new york, usa   NaN\n",
            "1            2           stockton, california, usa  18.0\n",
            "2            3     moscow, yukon territory, russia   NaN\n",
            "3            4           porto, v.n.gaia, portugal  17.0\n",
            "4            5  farnborough, hants, united kingdom   NaN\n",
            "...        ...                                 ...   ...\n",
            "278853  278854               portland, oregon, usa   NaN\n",
            "278854  278855  tacoma, washington, united kingdom  50.0\n",
            "278855  278856           brampton, ontario, canada   NaN\n",
            "278856  278857           knoxville, tennessee, usa   NaN\n",
            "278857  278858                dublin, n/a, ireland   NaN\n",
            "\n",
            "[278858 rows x 3 columns] تعداد امتیازات: 1149780\n"
          ]
        }
      ]
    },
    {
      "cell_type": "code",
      "source": [
        "from sklearn.model_selection import train_test_split\n",
        "from sklearn.neighbors import KNeighborsRegressor\n",
        "\n",
        "# پیش پردازش داده‌ها\n",
        "# ...\n",
        "\n",
        "# تقسیم داده‌ها به دو بخش آموزش و تست\n",
        "train_data, test_data = train_test_split(rating_books , test_size=0.2, random_state=42)\n",
        "\n",
        "# تعیین متغیر هدف و ویژگی‌های ورودی برای آموزش\n",
        "X_train = train_data.drop(columns=['ISBN'])\n",
        "y_train = train_data['bookRating']\n",
        "\n",
        "# تعیین متغیر هدف و ویژگی‌های ورودی برای تست\n",
        "X_test = test_data.drop(columns=['ISBN'])\n",
        "y_test = test_data['bookRating']\n",
        "\n",
        "# آموزش مدل با استفاده از الگوریتم KNN\n",
        "k = 3\n",
        "knn = KNeighborsRegressor(n_neighbors=k)\n",
        "knn.fit(X_train, y_train)\n",
        "\n",
        "# ارزیابی مدل با استفاده از MAE و RMSE\n",
        "y_pred = knn.predict(X_test)\n",
        "mae = np.mean(np.abs(y_test - y_pred))\n",
        "rmse = np.sqrt(np.mean(np.square(y_test - y_pred)))\n",
        "print(\"MAE:\", mae)\n",
        "print(\"RMSE:\", rmse)"
      ],
      "metadata": {
        "colab": {
          "base_uri": "https://localhost:8080/",
          "height": 406
        },
        "id": "Yk_eTMtf1AN2",
        "outputId": "eafab4b6-7b45-44f0-f652-bae0770b3f1d"
      },
      "execution_count": 27,
      "outputs": [
        {
          "output_type": "error",
          "ename": "ValueError",
          "evalue": "ignored",
          "traceback": [
            "\u001b[0;31m---------------------------------------------------------------------------\u001b[0m",
            "\u001b[0;31mValueError\u001b[0m                                Traceback (most recent call last)",
            "\u001b[0;32m<ipython-input-27-f8e31fba2c83>\u001b[0m in \u001b[0;36m<cell line: 21>\u001b[0;34m()\u001b[0m\n\u001b[1;32m     19\u001b[0m \u001b[0mk\u001b[0m \u001b[0;34m=\u001b[0m \u001b[0;36m3\u001b[0m\u001b[0;34m\u001b[0m\u001b[0;34m\u001b[0m\u001b[0m\n\u001b[1;32m     20\u001b[0m \u001b[0mknn\u001b[0m \u001b[0;34m=\u001b[0m \u001b[0mKNeighborsRegressor\u001b[0m\u001b[0;34m(\u001b[0m\u001b[0mn_neighbors\u001b[0m\u001b[0;34m=\u001b[0m\u001b[0mk\u001b[0m\u001b[0;34m)\u001b[0m\u001b[0;34m\u001b[0m\u001b[0;34m\u001b[0m\u001b[0m\n\u001b[0;32m---> 21\u001b[0;31m \u001b[0mknn\u001b[0m\u001b[0;34m.\u001b[0m\u001b[0mfit\u001b[0m\u001b[0;34m(\u001b[0m\u001b[0mX_train\u001b[0m\u001b[0;34m,\u001b[0m \u001b[0my_train\u001b[0m\u001b[0;34m)\u001b[0m\u001b[0;34m\u001b[0m\u001b[0;34m\u001b[0m\u001b[0m\n\u001b[0m\u001b[1;32m     22\u001b[0m \u001b[0;34m\u001b[0m\u001b[0m\n\u001b[1;32m     23\u001b[0m \u001b[0;31m# ارزیابی مدل با استفاده از MAE و RMSE\u001b[0m\u001b[0;34m\u001b[0m\u001b[0;34m\u001b[0m\u001b[0m\n",
            "\u001b[0;32m/usr/local/lib/python3.10/dist-packages/sklearn/neighbors/_regression.py\u001b[0m in \u001b[0;36mfit\u001b[0;34m(self, X, y)\u001b[0m\n\u001b[1;32m    215\u001b[0m         \u001b[0mself\u001b[0m\u001b[0;34m.\u001b[0m\u001b[0m_validate_params\u001b[0m\u001b[0;34m(\u001b[0m\u001b[0;34m)\u001b[0m\u001b[0;34m\u001b[0m\u001b[0;34m\u001b[0m\u001b[0m\n\u001b[1;32m    216\u001b[0m \u001b[0;34m\u001b[0m\u001b[0m\n\u001b[0;32m--> 217\u001b[0;31m         \u001b[0;32mreturn\u001b[0m \u001b[0mself\u001b[0m\u001b[0;34m.\u001b[0m\u001b[0m_fit\u001b[0m\u001b[0;34m(\u001b[0m\u001b[0mX\u001b[0m\u001b[0;34m,\u001b[0m \u001b[0my\u001b[0m\u001b[0;34m)\u001b[0m\u001b[0;34m\u001b[0m\u001b[0;34m\u001b[0m\u001b[0m\n\u001b[0m\u001b[1;32m    218\u001b[0m \u001b[0;34m\u001b[0m\u001b[0m\n\u001b[1;32m    219\u001b[0m     \u001b[0;32mdef\u001b[0m \u001b[0mpredict\u001b[0m\u001b[0;34m(\u001b[0m\u001b[0mself\u001b[0m\u001b[0;34m,\u001b[0m \u001b[0mX\u001b[0m\u001b[0;34m)\u001b[0m\u001b[0;34m:\u001b[0m\u001b[0;34m\u001b[0m\u001b[0;34m\u001b[0m\u001b[0m\n",
            "\u001b[0;32m/usr/local/lib/python3.10/dist-packages/sklearn/neighbors/_base.py\u001b[0m in \u001b[0;36m_fit\u001b[0;34m(self, X, y)\u001b[0m\n\u001b[1;32m    452\u001b[0m         \u001b[0;32mif\u001b[0m \u001b[0mself\u001b[0m\u001b[0;34m.\u001b[0m\u001b[0m_get_tags\u001b[0m\u001b[0;34m(\u001b[0m\u001b[0;34m)\u001b[0m\u001b[0;34m[\u001b[0m\u001b[0;34m\"requires_y\"\u001b[0m\u001b[0;34m]\u001b[0m\u001b[0;34m:\u001b[0m\u001b[0;34m\u001b[0m\u001b[0;34m\u001b[0m\u001b[0m\n\u001b[1;32m    453\u001b[0m             \u001b[0;32mif\u001b[0m \u001b[0;32mnot\u001b[0m \u001b[0misinstance\u001b[0m\u001b[0;34m(\u001b[0m\u001b[0mX\u001b[0m\u001b[0;34m,\u001b[0m \u001b[0;34m(\u001b[0m\u001b[0mKDTree\u001b[0m\u001b[0;34m,\u001b[0m \u001b[0mBallTree\u001b[0m\u001b[0;34m,\u001b[0m \u001b[0mNeighborsBase\u001b[0m\u001b[0;34m)\u001b[0m\u001b[0;34m)\u001b[0m\u001b[0;34m:\u001b[0m\u001b[0;34m\u001b[0m\u001b[0;34m\u001b[0m\u001b[0m\n\u001b[0;32m--> 454\u001b[0;31m                 X, y = self._validate_data(\n\u001b[0m\u001b[1;32m    455\u001b[0m                     \u001b[0mX\u001b[0m\u001b[0;34m,\u001b[0m \u001b[0my\u001b[0m\u001b[0;34m,\u001b[0m \u001b[0maccept_sparse\u001b[0m\u001b[0;34m=\u001b[0m\u001b[0;34m\"csr\"\u001b[0m\u001b[0;34m,\u001b[0m \u001b[0mmulti_output\u001b[0m\u001b[0;34m=\u001b[0m\u001b[0;32mTrue\u001b[0m\u001b[0;34m,\u001b[0m \u001b[0morder\u001b[0m\u001b[0;34m=\u001b[0m\u001b[0;34m\"C\"\u001b[0m\u001b[0;34m\u001b[0m\u001b[0;34m\u001b[0m\u001b[0m\n\u001b[1;32m    456\u001b[0m                 )\n",
            "\u001b[0;32m/usr/local/lib/python3.10/dist-packages/sklearn/base.py\u001b[0m in \u001b[0;36m_validate_data\u001b[0;34m(self, X, y, reset, validate_separately, **check_params)\u001b[0m\n\u001b[1;32m    582\u001b[0m                 \u001b[0my\u001b[0m \u001b[0;34m=\u001b[0m \u001b[0mcheck_array\u001b[0m\u001b[0;34m(\u001b[0m\u001b[0my\u001b[0m\u001b[0;34m,\u001b[0m \u001b[0minput_name\u001b[0m\u001b[0;34m=\u001b[0m\u001b[0;34m\"y\"\u001b[0m\u001b[0;34m,\u001b[0m \u001b[0;34m**\u001b[0m\u001b[0mcheck_y_params\u001b[0m\u001b[0;34m)\u001b[0m\u001b[0;34m\u001b[0m\u001b[0;34m\u001b[0m\u001b[0m\n\u001b[1;32m    583\u001b[0m             \u001b[0;32melse\u001b[0m\u001b[0;34m:\u001b[0m\u001b[0;34m\u001b[0m\u001b[0;34m\u001b[0m\u001b[0m\n\u001b[0;32m--> 584\u001b[0;31m                 \u001b[0mX\u001b[0m\u001b[0;34m,\u001b[0m \u001b[0my\u001b[0m \u001b[0;34m=\u001b[0m \u001b[0mcheck_X_y\u001b[0m\u001b[0;34m(\u001b[0m\u001b[0mX\u001b[0m\u001b[0;34m,\u001b[0m \u001b[0my\u001b[0m\u001b[0;34m,\u001b[0m \u001b[0;34m**\u001b[0m\u001b[0mcheck_params\u001b[0m\u001b[0;34m)\u001b[0m\u001b[0;34m\u001b[0m\u001b[0;34m\u001b[0m\u001b[0m\n\u001b[0m\u001b[1;32m    585\u001b[0m             \u001b[0mout\u001b[0m \u001b[0;34m=\u001b[0m \u001b[0mX\u001b[0m\u001b[0;34m,\u001b[0m \u001b[0my\u001b[0m\u001b[0;34m\u001b[0m\u001b[0;34m\u001b[0m\u001b[0m\n\u001b[1;32m    586\u001b[0m \u001b[0;34m\u001b[0m\u001b[0m\n",
            "\u001b[0;32m/usr/local/lib/python3.10/dist-packages/sklearn/utils/validation.py\u001b[0m in \u001b[0;36mcheck_X_y\u001b[0;34m(X, y, accept_sparse, accept_large_sparse, dtype, order, copy, force_all_finite, ensure_2d, allow_nd, multi_output, ensure_min_samples, ensure_min_features, y_numeric, estimator)\u001b[0m\n\u001b[1;32m   1104\u001b[0m         )\n\u001b[1;32m   1105\u001b[0m \u001b[0;34m\u001b[0m\u001b[0m\n\u001b[0;32m-> 1106\u001b[0;31m     X = check_array(\n\u001b[0m\u001b[1;32m   1107\u001b[0m         \u001b[0mX\u001b[0m\u001b[0;34m,\u001b[0m\u001b[0;34m\u001b[0m\u001b[0;34m\u001b[0m\u001b[0m\n\u001b[1;32m   1108\u001b[0m         \u001b[0maccept_sparse\u001b[0m\u001b[0;34m=\u001b[0m\u001b[0maccept_sparse\u001b[0m\u001b[0;34m,\u001b[0m\u001b[0;34m\u001b[0m\u001b[0;34m\u001b[0m\u001b[0m\n",
            "\u001b[0;32m/usr/local/lib/python3.10/dist-packages/sklearn/utils/validation.py\u001b[0m in \u001b[0;36mcheck_array\u001b[0;34m(array, accept_sparse, accept_large_sparse, dtype, order, copy, force_all_finite, ensure_2d, allow_nd, ensure_min_samples, ensure_min_features, estimator, input_name)\u001b[0m\n\u001b[1;32m    877\u001b[0m                     \u001b[0marray\u001b[0m \u001b[0;34m=\u001b[0m \u001b[0mxp\u001b[0m\u001b[0;34m.\u001b[0m\u001b[0mastype\u001b[0m\u001b[0;34m(\u001b[0m\u001b[0marray\u001b[0m\u001b[0;34m,\u001b[0m \u001b[0mdtype\u001b[0m\u001b[0;34m,\u001b[0m \u001b[0mcopy\u001b[0m\u001b[0;34m=\u001b[0m\u001b[0;32mFalse\u001b[0m\u001b[0;34m)\u001b[0m\u001b[0;34m\u001b[0m\u001b[0;34m\u001b[0m\u001b[0m\n\u001b[1;32m    878\u001b[0m                 \u001b[0;32melse\u001b[0m\u001b[0;34m:\u001b[0m\u001b[0;34m\u001b[0m\u001b[0;34m\u001b[0m\u001b[0m\n\u001b[0;32m--> 879\u001b[0;31m                     \u001b[0marray\u001b[0m \u001b[0;34m=\u001b[0m \u001b[0m_asarray_with_order\u001b[0m\u001b[0;34m(\u001b[0m\u001b[0marray\u001b[0m\u001b[0;34m,\u001b[0m \u001b[0morder\u001b[0m\u001b[0;34m=\u001b[0m\u001b[0morder\u001b[0m\u001b[0;34m,\u001b[0m \u001b[0mdtype\u001b[0m\u001b[0;34m=\u001b[0m\u001b[0mdtype\u001b[0m\u001b[0;34m,\u001b[0m \u001b[0mxp\u001b[0m\u001b[0;34m=\u001b[0m\u001b[0mxp\u001b[0m\u001b[0;34m)\u001b[0m\u001b[0;34m\u001b[0m\u001b[0;34m\u001b[0m\u001b[0m\n\u001b[0m\u001b[1;32m    880\u001b[0m             \u001b[0;32mexcept\u001b[0m \u001b[0mComplexWarning\u001b[0m \u001b[0;32mas\u001b[0m \u001b[0mcomplex_warning\u001b[0m\u001b[0;34m:\u001b[0m\u001b[0;34m\u001b[0m\u001b[0;34m\u001b[0m\u001b[0m\n\u001b[1;32m    881\u001b[0m                 raise ValueError(\n",
            "\u001b[0;32m/usr/local/lib/python3.10/dist-packages/sklearn/utils/_array_api.py\u001b[0m in \u001b[0;36m_asarray_with_order\u001b[0;34m(array, dtype, order, copy, xp)\u001b[0m\n\u001b[1;32m    183\u001b[0m     \u001b[0;32mif\u001b[0m \u001b[0mxp\u001b[0m\u001b[0;34m.\u001b[0m\u001b[0m__name__\u001b[0m \u001b[0;32min\u001b[0m \u001b[0;34m{\u001b[0m\u001b[0;34m\"numpy\"\u001b[0m\u001b[0;34m,\u001b[0m \u001b[0;34m\"numpy.array_api\"\u001b[0m\u001b[0;34m}\u001b[0m\u001b[0;34m:\u001b[0m\u001b[0;34m\u001b[0m\u001b[0;34m\u001b[0m\u001b[0m\n\u001b[1;32m    184\u001b[0m         \u001b[0;31m# Use NumPy API to support order\u001b[0m\u001b[0;34m\u001b[0m\u001b[0;34m\u001b[0m\u001b[0m\n\u001b[0;32m--> 185\u001b[0;31m         \u001b[0marray\u001b[0m \u001b[0;34m=\u001b[0m \u001b[0mnumpy\u001b[0m\u001b[0;34m.\u001b[0m\u001b[0masarray\u001b[0m\u001b[0;34m(\u001b[0m\u001b[0marray\u001b[0m\u001b[0;34m,\u001b[0m \u001b[0morder\u001b[0m\u001b[0;34m=\u001b[0m\u001b[0morder\u001b[0m\u001b[0;34m,\u001b[0m \u001b[0mdtype\u001b[0m\u001b[0;34m=\u001b[0m\u001b[0mdtype\u001b[0m\u001b[0;34m)\u001b[0m\u001b[0;34m\u001b[0m\u001b[0;34m\u001b[0m\u001b[0m\n\u001b[0m\u001b[1;32m    186\u001b[0m         \u001b[0;32mreturn\u001b[0m \u001b[0mxp\u001b[0m\u001b[0;34m.\u001b[0m\u001b[0masarray\u001b[0m\u001b[0;34m(\u001b[0m\u001b[0marray\u001b[0m\u001b[0;34m,\u001b[0m \u001b[0mcopy\u001b[0m\u001b[0;34m=\u001b[0m\u001b[0mcopy\u001b[0m\u001b[0;34m)\u001b[0m\u001b[0;34m\u001b[0m\u001b[0;34m\u001b[0m\u001b[0m\n\u001b[1;32m    187\u001b[0m     \u001b[0;32melse\u001b[0m\u001b[0;34m:\u001b[0m\u001b[0;34m\u001b[0m\u001b[0;34m\u001b[0m\u001b[0m\n",
            "\u001b[0;32m/usr/local/lib/python3.10/dist-packages/pandas/core/generic.py\u001b[0m in \u001b[0;36m__array__\u001b[0;34m(self, dtype)\u001b[0m\n\u001b[1;32m   2068\u001b[0m \u001b[0;34m\u001b[0m\u001b[0m\n\u001b[1;32m   2069\u001b[0m     \u001b[0;32mdef\u001b[0m \u001b[0m__array__\u001b[0m\u001b[0;34m(\u001b[0m\u001b[0mself\u001b[0m\u001b[0;34m,\u001b[0m \u001b[0mdtype\u001b[0m\u001b[0;34m:\u001b[0m \u001b[0mnpt\u001b[0m\u001b[0;34m.\u001b[0m\u001b[0mDTypeLike\u001b[0m \u001b[0;34m|\u001b[0m \u001b[0;32mNone\u001b[0m \u001b[0;34m=\u001b[0m \u001b[0;32mNone\u001b[0m\u001b[0;34m)\u001b[0m \u001b[0;34m->\u001b[0m \u001b[0mnp\u001b[0m\u001b[0;34m.\u001b[0m\u001b[0mndarray\u001b[0m\u001b[0;34m:\u001b[0m\u001b[0;34m\u001b[0m\u001b[0;34m\u001b[0m\u001b[0m\n\u001b[0;32m-> 2070\u001b[0;31m         \u001b[0;32mreturn\u001b[0m \u001b[0mnp\u001b[0m\u001b[0;34m.\u001b[0m\u001b[0masarray\u001b[0m\u001b[0;34m(\u001b[0m\u001b[0mself\u001b[0m\u001b[0;34m.\u001b[0m\u001b[0m_values\u001b[0m\u001b[0;34m,\u001b[0m \u001b[0mdtype\u001b[0m\u001b[0;34m=\u001b[0m\u001b[0mdtype\u001b[0m\u001b[0;34m)\u001b[0m\u001b[0;34m\u001b[0m\u001b[0;34m\u001b[0m\u001b[0m\n\u001b[0m\u001b[1;32m   2071\u001b[0m \u001b[0;34m\u001b[0m\u001b[0m\n\u001b[1;32m   2072\u001b[0m     def __array_wrap__(\n",
            "\u001b[0;31mValueError\u001b[0m: could not convert string to float: 'The Celibacy Club: Stories'"
          ]
        }
      ]
    },
    {
      "cell_type": "markdown",
      "source": [
        "چرك نويس ها"
      ],
      "metadata": {
        "id": "GyDfuDlX-8D0"
      }
    },
    {
      "cell_type": "code",
      "source": [
        "# Import NearestNeighbors\n",
        "from sklearn.neighbors import NearestNeighbors\n",
        "\n",
        "# Build NearestNeighbors Object\n",
        "model_nn = NearestNeighbors(metric='cosine', algorithm='brute', n_neighbors=7, n_jobs=-1)\n",
        "\n",
        "# Fit the NearestNeighbor\n",
        "model_nn.fit(rating_books_pivot)"
      ],
      "metadata": {
        "colab": {
          "base_uri": "https://localhost:8080/",
          "height": 74
        },
        "id": "oxn7Y-iNesa9",
        "outputId": "7c09ff84-8bcb-4f96-c373-89e46b799d34"
      },
      "execution_count": 28,
      "outputs": [
        {
          "output_type": "execute_result",
          "data": {
            "text/plain": [
              "NearestNeighbors(algorithm='brute', metric='cosine', n_jobs=-1, n_neighbors=7)"
            ],
            "text/html": [
              "<style>#sk-container-id-2 {color: black;background-color: white;}#sk-container-id-2 pre{padding: 0;}#sk-container-id-2 div.sk-toggleable {background-color: white;}#sk-container-id-2 label.sk-toggleable__label {cursor: pointer;display: block;width: 100%;margin-bottom: 0;padding: 0.3em;box-sizing: border-box;text-align: center;}#sk-container-id-2 label.sk-toggleable__label-arrow:before {content: \"▸\";float: left;margin-right: 0.25em;color: #696969;}#sk-container-id-2 label.sk-toggleable__label-arrow:hover:before {color: black;}#sk-container-id-2 div.sk-estimator:hover label.sk-toggleable__label-arrow:before {color: black;}#sk-container-id-2 div.sk-toggleable__content {max-height: 0;max-width: 0;overflow: hidden;text-align: left;background-color: #f0f8ff;}#sk-container-id-2 div.sk-toggleable__content pre {margin: 0.2em;color: black;border-radius: 0.25em;background-color: #f0f8ff;}#sk-container-id-2 input.sk-toggleable__control:checked~div.sk-toggleable__content {max-height: 200px;max-width: 100%;overflow: auto;}#sk-container-id-2 input.sk-toggleable__control:checked~label.sk-toggleable__label-arrow:before {content: \"▾\";}#sk-container-id-2 div.sk-estimator input.sk-toggleable__control:checked~label.sk-toggleable__label {background-color: #d4ebff;}#sk-container-id-2 div.sk-label input.sk-toggleable__control:checked~label.sk-toggleable__label {background-color: #d4ebff;}#sk-container-id-2 input.sk-hidden--visually {border: 0;clip: rect(1px 1px 1px 1px);clip: rect(1px, 1px, 1px, 1px);height: 1px;margin: -1px;overflow: hidden;padding: 0;position: absolute;width: 1px;}#sk-container-id-2 div.sk-estimator {font-family: monospace;background-color: #f0f8ff;border: 1px dotted black;border-radius: 0.25em;box-sizing: border-box;margin-bottom: 0.5em;}#sk-container-id-2 div.sk-estimator:hover {background-color: #d4ebff;}#sk-container-id-2 div.sk-parallel-item::after {content: \"\";width: 100%;border-bottom: 1px solid gray;flex-grow: 1;}#sk-container-id-2 div.sk-label:hover label.sk-toggleable__label {background-color: #d4ebff;}#sk-container-id-2 div.sk-serial::before {content: \"\";position: absolute;border-left: 1px solid gray;box-sizing: border-box;top: 0;bottom: 0;left: 50%;z-index: 0;}#sk-container-id-2 div.sk-serial {display: flex;flex-direction: column;align-items: center;background-color: white;padding-right: 0.2em;padding-left: 0.2em;position: relative;}#sk-container-id-2 div.sk-item {position: relative;z-index: 1;}#sk-container-id-2 div.sk-parallel {display: flex;align-items: stretch;justify-content: center;background-color: white;position: relative;}#sk-container-id-2 div.sk-item::before, #sk-container-id-2 div.sk-parallel-item::before {content: \"\";position: absolute;border-left: 1px solid gray;box-sizing: border-box;top: 0;bottom: 0;left: 50%;z-index: -1;}#sk-container-id-2 div.sk-parallel-item {display: flex;flex-direction: column;z-index: 1;position: relative;background-color: white;}#sk-container-id-2 div.sk-parallel-item:first-child::after {align-self: flex-end;width: 50%;}#sk-container-id-2 div.sk-parallel-item:last-child::after {align-self: flex-start;width: 50%;}#sk-container-id-2 div.sk-parallel-item:only-child::after {width: 0;}#sk-container-id-2 div.sk-dashed-wrapped {border: 1px dashed gray;margin: 0 0.4em 0.5em 0.4em;box-sizing: border-box;padding-bottom: 0.4em;background-color: white;}#sk-container-id-2 div.sk-label label {font-family: monospace;font-weight: bold;display: inline-block;line-height: 1.2em;}#sk-container-id-2 div.sk-label-container {text-align: center;}#sk-container-id-2 div.sk-container {/* jupyter's `normalize.less` sets `[hidden] { display: none; }` but bootstrap.min.css set `[hidden] { display: none !important; }` so we also need the `!important` here to be able to override the default hidden behavior on the sphinx rendered scikit-learn.org. See: https://github.com/scikit-learn/scikit-learn/issues/21755 */display: inline-block !important;position: relative;}#sk-container-id-2 div.sk-text-repr-fallback {display: none;}</style><div id=\"sk-container-id-2\" class=\"sk-top-container\"><div class=\"sk-text-repr-fallback\"><pre>NearestNeighbors(algorithm=&#x27;brute&#x27;, metric=&#x27;cosine&#x27;, n_jobs=-1, n_neighbors=7)</pre><b>In a Jupyter environment, please rerun this cell to show the HTML representation or trust the notebook. <br />On GitHub, the HTML representation is unable to render, please try loading this page with nbviewer.org.</b></div><div class=\"sk-container\" hidden><div class=\"sk-item\"><div class=\"sk-estimator sk-toggleable\"><input class=\"sk-toggleable__control sk-hidden--visually\" id=\"sk-estimator-id-2\" type=\"checkbox\" checked><label for=\"sk-estimator-id-2\" class=\"sk-toggleable__label sk-toggleable__label-arrow\">NearestNeighbors</label><div class=\"sk-toggleable__content\"><pre>NearestNeighbors(algorithm=&#x27;brute&#x27;, metric=&#x27;cosine&#x27;, n_jobs=-1, n_neighbors=7)</pre></div></div></div></div></div>"
            ]
          },
          "metadata": {},
          "execution_count": 28
        }
      ]
    },
    {
      "cell_type": "code",
      "source": [
        "# Get top 10 nearest neighbors\n",
        "indices=model_nn.kneighbors(rating_books_pivot.loc[['10 Secrets for Success and Inner Peace']], 10, return_distance=False)\n",
        "\n",
        "# Print the recommended books\n",
        "print(\"Recommended Books:\")\n",
        "print(\"==================\")\n",
        "for index, value in enumerate(rating_books_pivot.index[indices][0]):\n",
        "    print((index+1),\". \",value)"
      ],
      "metadata": {
        "colab": {
          "base_uri": "https://localhost:8080/"
        },
        "id": "mMJ_3D4ke7g0",
        "outputId": "a7ee97c9-9547-460a-99c6-7754200133a3"
      },
      "execution_count": 29,
      "outputs": [
        {
          "output_type": "stream",
          "name": "stdout",
          "text": [
            "Recommended Books:\n",
            "==================\n",
            "1 .  10 Secrets for Success and Inner Peace\n",
            "2 .  Soul Harvest: The World Takes Sides (Left Behind No. 4)\n",
            "3 .  Sophies Choice\n",
            "4 .  Sorcerer's Son\n",
            "5 .  Sorceress of Darshiva (Malloreon (Paperback Random House))\n",
            "6 .  Sosa : An Autobiography\n",
            "7 .  Soul Among Lions: The Cougar As Peaceful Adversary\n",
            "8 .  Soothing Soaps: For Healthy Skin\n",
            "9 .  Soul Survivor\n",
            "10 .  Souls Belated (Penguin Classics 60s)\n"
          ]
        },
        {
          "output_type": "stream",
          "name": "stderr",
          "text": [
            "<ipython-input-29-4f0d66b9382b>:7: FutureWarning: Support for multi-dimensional indexing (e.g. `obj[:, None]`) is deprecated and will be removed in a future version.  Convert to a numpy array before indexing instead.\n",
            "  for index, value in enumerate(rating_books_pivot.index[indices][0]):\n"
          ]
        }
      ]
    },
    {
      "cell_type": "code",
      "source": [
        "# Recommendations based on rating counts\n",
        "rating_count = pd.DataFrame(ratings.groupby('ISBN')['bookRating'].count())\n",
        "rating_count.sort_values('bookRating', ascending=False).head()"
      ],
      "metadata": {
        "colab": {
          "base_uri": "https://localhost:8080/",
          "height": 370
        },
        "id": "z5KQHQ6S7L3M",
        "outputId": "7ecc445f-5582-4edb-997c-e4e85e70ece4"
      },
      "execution_count": 31,
      "outputs": [
        {
          "output_type": "error",
          "ename": "KeyError",
          "evalue": "ignored",
          "traceback": [
            "\u001b[0;31m---------------------------------------------------------------------------\u001b[0m",
            "\u001b[0;31mKeyError\u001b[0m                                  Traceback (most recent call last)",
            "\u001b[0;32m<ipython-input-31-ea8a6b6997bc>\u001b[0m in \u001b[0;36m<cell line: 2>\u001b[0;34m()\u001b[0m\n\u001b[1;32m      1\u001b[0m \u001b[0;31m# Recommendations based on rating counts\u001b[0m\u001b[0;34m\u001b[0m\u001b[0;34m\u001b[0m\u001b[0m\n\u001b[0;32m----> 2\u001b[0;31m \u001b[0mrating_count\u001b[0m \u001b[0;34m=\u001b[0m \u001b[0mpd\u001b[0m\u001b[0;34m.\u001b[0m\u001b[0mDataFrame\u001b[0m\u001b[0;34m(\u001b[0m\u001b[0mratings\u001b[0m\u001b[0;34m.\u001b[0m\u001b[0mgroupby\u001b[0m\u001b[0;34m(\u001b[0m\u001b[0;34m'ISBN'\u001b[0m\u001b[0;34m)\u001b[0m\u001b[0;34m[\u001b[0m\u001b[0;34m'bookRating'\u001b[0m\u001b[0;34m]\u001b[0m\u001b[0;34m.\u001b[0m\u001b[0mcount\u001b[0m\u001b[0;34m(\u001b[0m\u001b[0;34m)\u001b[0m\u001b[0;34m)\u001b[0m\u001b[0;34m\u001b[0m\u001b[0;34m\u001b[0m\u001b[0m\n\u001b[0m\u001b[1;32m      3\u001b[0m \u001b[0mrating_count\u001b[0m\u001b[0;34m.\u001b[0m\u001b[0msort_values\u001b[0m\u001b[0;34m(\u001b[0m\u001b[0;34m'bookRating'\u001b[0m\u001b[0;34m,\u001b[0m \u001b[0mascending\u001b[0m\u001b[0;34m=\u001b[0m\u001b[0;32mFalse\u001b[0m\u001b[0;34m)\u001b[0m\u001b[0;34m.\u001b[0m\u001b[0mhead\u001b[0m\u001b[0;34m(\u001b[0m\u001b[0;34m)\u001b[0m\u001b[0;34m\u001b[0m\u001b[0;34m\u001b[0m\u001b[0m\n",
            "\u001b[0;32m/usr/local/lib/python3.10/dist-packages/pandas/core/series.py\u001b[0m in \u001b[0;36mgroupby\u001b[0;34m(self, by, axis, level, as_index, sort, group_keys, squeeze, observed, dropna)\u001b[0m\n\u001b[1;32m   2074\u001b[0m         \u001b[0maxis\u001b[0m \u001b[0;34m=\u001b[0m \u001b[0mself\u001b[0m\u001b[0;34m.\u001b[0m\u001b[0m_get_axis_number\u001b[0m\u001b[0;34m(\u001b[0m\u001b[0maxis\u001b[0m\u001b[0;34m)\u001b[0m\u001b[0;34m\u001b[0m\u001b[0;34m\u001b[0m\u001b[0m\n\u001b[1;32m   2075\u001b[0m \u001b[0;34m\u001b[0m\u001b[0m\n\u001b[0;32m-> 2076\u001b[0;31m         return SeriesGroupBy(\n\u001b[0m\u001b[1;32m   2077\u001b[0m             \u001b[0mobj\u001b[0m\u001b[0;34m=\u001b[0m\u001b[0mself\u001b[0m\u001b[0;34m,\u001b[0m\u001b[0;34m\u001b[0m\u001b[0;34m\u001b[0m\u001b[0m\n\u001b[1;32m   2078\u001b[0m             \u001b[0mkeys\u001b[0m\u001b[0;34m=\u001b[0m\u001b[0mby\u001b[0m\u001b[0;34m,\u001b[0m\u001b[0;34m\u001b[0m\u001b[0;34m\u001b[0m\u001b[0m\n",
            "\u001b[0;32m/usr/local/lib/python3.10/dist-packages/pandas/core/groupby/groupby.py\u001b[0m in \u001b[0;36m__init__\u001b[0;34m(self, obj, keys, axis, level, grouper, exclusions, selection, as_index, sort, group_keys, squeeze, observed, mutated, dropna)\u001b[0m\n\u001b[1;32m    963\u001b[0m             \u001b[0;32mfrom\u001b[0m \u001b[0mpandas\u001b[0m\u001b[0;34m.\u001b[0m\u001b[0mcore\u001b[0m\u001b[0;34m.\u001b[0m\u001b[0mgroupby\u001b[0m\u001b[0;34m.\u001b[0m\u001b[0mgrouper\u001b[0m \u001b[0;32mimport\u001b[0m \u001b[0mget_grouper\u001b[0m\u001b[0;34m\u001b[0m\u001b[0;34m\u001b[0m\u001b[0m\n\u001b[1;32m    964\u001b[0m \u001b[0;34m\u001b[0m\u001b[0m\n\u001b[0;32m--> 965\u001b[0;31m             grouper, exclusions, obj = get_grouper(\n\u001b[0m\u001b[1;32m    966\u001b[0m                 \u001b[0mobj\u001b[0m\u001b[0;34m,\u001b[0m\u001b[0;34m\u001b[0m\u001b[0;34m\u001b[0m\u001b[0m\n\u001b[1;32m    967\u001b[0m                 \u001b[0mkeys\u001b[0m\u001b[0;34m,\u001b[0m\u001b[0;34m\u001b[0m\u001b[0;34m\u001b[0m\u001b[0m\n",
            "\u001b[0;32m/usr/local/lib/python3.10/dist-packages/pandas/core/groupby/grouper.py\u001b[0m in \u001b[0;36mget_grouper\u001b[0;34m(obj, key, axis, level, sort, observed, mutated, validate, dropna)\u001b[0m\n\u001b[1;32m    886\u001b[0m                 \u001b[0min_axis\u001b[0m\u001b[0;34m,\u001b[0m \u001b[0mlevel\u001b[0m\u001b[0;34m,\u001b[0m \u001b[0mgpr\u001b[0m \u001b[0;34m=\u001b[0m \u001b[0;32mFalse\u001b[0m\u001b[0;34m,\u001b[0m \u001b[0mgpr\u001b[0m\u001b[0;34m,\u001b[0m \u001b[0;32mNone\u001b[0m\u001b[0;34m\u001b[0m\u001b[0;34m\u001b[0m\u001b[0m\n\u001b[1;32m    887\u001b[0m             \u001b[0;32melse\u001b[0m\u001b[0;34m:\u001b[0m\u001b[0;34m\u001b[0m\u001b[0;34m\u001b[0m\u001b[0m\n\u001b[0;32m--> 888\u001b[0;31m                 \u001b[0;32mraise\u001b[0m \u001b[0mKeyError\u001b[0m\u001b[0;34m(\u001b[0m\u001b[0mgpr\u001b[0m\u001b[0;34m)\u001b[0m\u001b[0;34m\u001b[0m\u001b[0;34m\u001b[0m\u001b[0m\n\u001b[0m\u001b[1;32m    889\u001b[0m         \u001b[0;32melif\u001b[0m \u001b[0misinstance\u001b[0m\u001b[0;34m(\u001b[0m\u001b[0mgpr\u001b[0m\u001b[0;34m,\u001b[0m \u001b[0mGrouper\u001b[0m\u001b[0;34m)\u001b[0m \u001b[0;32mand\u001b[0m \u001b[0mgpr\u001b[0m\u001b[0;34m.\u001b[0m\u001b[0mkey\u001b[0m \u001b[0;32mis\u001b[0m \u001b[0;32mnot\u001b[0m \u001b[0;32mNone\u001b[0m\u001b[0;34m:\u001b[0m\u001b[0;34m\u001b[0m\u001b[0;34m\u001b[0m\u001b[0m\n\u001b[1;32m    890\u001b[0m             \u001b[0;31m# Add key to exclusions\u001b[0m\u001b[0;34m\u001b[0m\u001b[0;34m\u001b[0m\u001b[0m\n",
            "\u001b[0;31mKeyError\u001b[0m: 'ISBN'"
          ]
        }
      ]
    },
    {
      "cell_type": "code",
      "source": [
        "most_rated_books = pd.DataFrame(['0971880107', '0316666343', '0385504209', '0060928336', '0312195516'], index=np.arange(5), columns = ['ISBN'])\n",
        "most_rated_books_summary = pd.merge(most_rated_books, books, on='ISBN')\n",
        "most_rated_books_summary"
      ],
      "metadata": {
        "id": "fU1yb-ak7bUF"
      },
      "execution_count": null,
      "outputs": []
    },
    {
      "cell_type": "code",
      "source": [
        "# Recommendations based on correlations\n",
        "\n",
        "average_rating = pd.DataFrame(ratings.groupby('ISBN')['bookRating'].mean())\n",
        "average_rating['ratingCount'] = pd.DataFrame(ratings.groupby('ISBN')['bookRating'].count())\n",
        "average_rating.sort_values('ratingCount', ascending=False).head()"
      ],
      "metadata": {
        "id": "F_MhpR517soS"
      },
      "execution_count": null,
      "outputs": []
    },
    {
      "cell_type": "code",
      "source": [
        "# To ensure statistical significance, users with less than 200 ratings, and books with less than 100 ratings are excluded.\n",
        "counts1 = ratings['userID'].value_counts()\n",
        "ratings = ratings[ratings['userID'].isin(counts1[counts1 >= 200].index)]\n",
        "counts = ratings['bookRating'].value_counts()\n",
        "ratings = ratings[ratings['bookRating'].isin(counts[counts >= 100].index)]\n",
        "\n",
        "# Rating matrix\n",
        "ratings_pivot = ratings.pivot(index='userID', columns='ISBN').bookRating\n",
        "userID = ratings_pivot.index\n",
        "ISBN = ratings_pivot.columns\n",
        "print(ratings_pivot.shape)\n",
        "ratings_pivot.head()"
      ],
      "metadata": {
        "id": "Az98voBa73Aj"
      },
      "execution_count": null,
      "outputs": []
    },
    {
      "cell_type": "code",
      "source": [
        "bones_ratings = ratings_pivot['0316666343']\n",
        "similar_to_bones = ratings_pivot.corrwith(bones_ratings)\n",
        "corr_bones = pd.DataFrame(similar_to_bones, columns=['pearsonR'])\n",
        "corr_bones.dropna(inplace=True)\n",
        "corr_summary = corr_bones.join(average_rating['ratingCount'])\n",
        "corr_summary[corr_summary['ratingCount']>=300].sort_values('pearsonR', ascending=False).head(10)"
      ],
      "metadata": {
        "id": "JALm66fT8Ocm"
      },
      "execution_count": null,
      "outputs": []
    },
    {
      "cell_type": "code",
      "source": [
        "books_corr_to_bones = pd.DataFrame(['0312291639', '0316601950', '0446610038', '0446672211', '0385265700', '0345342968', '0060930535', '0375707972', '0684872153'],\n",
        "                                  index=np.arange(9), columns=['ISBN'])\n",
        "corr_books = pd.merge(books_corr_to_bones, books, on='ISBN')\n",
        "corr_books"
      ],
      "metadata": {
        "id": "JaUqowxH8fV3"
      },
      "execution_count": null,
      "outputs": []
    },
    {
      "cell_type": "code",
      "source": [
        "# # Take 1 % data as sample\n",
        "# rating_books_sample = rating_books.sample(frac=.01, random_state=1)\n",
        "\n",
        "# # Shape of the sample data\n",
        "# rating_books_sample.shape"
      ],
      "metadata": {
        "id": "A6TnEH3DLcJh"
      },
      "execution_count": null,
      "outputs": []
    },
    {
      "cell_type": "markdown",
      "source": [
        "#KNN"
      ],
      "metadata": {
        "id": "VCcOtwooLkHE"
      }
    },
    {
      "cell_type": "code",
      "source": [
        "# Collaborative Filtering Using k-Nearest Neighbors (kNN)\n",
        "\n",
        "combine_book_rating = pd.merge(ratings, books, on='ISBN')\n",
        "columns = ['yearOfPublication', 'publisher', 'bookAuthor', 'imageUrlS', 'imageUrlM', 'imageUrlL']\n",
        "combine_book_rating = combine_book_rating.drop(columns, axis=1)\n",
        "combine_book_rating.head()"
      ],
      "metadata": {
        "id": "C33n5tPR8rxv"
      },
      "execution_count": null,
      "outputs": []
    },
    {
      "cell_type": "code",
      "source": [
        "# We then group by book titles and create a new column for total rating count.\n",
        "combine_book_rating = combine_book_rating.dropna(axis = 0, subset = ['bookTitle'])\n",
        "\n",
        "book_ratingCount = (combine_book_rating.\n",
        "     groupby(by = ['bookTitle'])['bookRating'].\n",
        "     count().\n",
        "     reset_index().\n",
        "     rename(columns = {'bookRating': 'totalRatingCount'})\n",
        "     [['bookTitle', 'totalRatingCount']]\n",
        "    )\n",
        "book_ratingCount.head()"
      ],
      "metadata": {
        "id": "k_ex9nxB8zuk"
      },
      "execution_count": null,
      "outputs": []
    },
    {
      "cell_type": "code",
      "source": [
        "# We combine the rating data with the total rating count data, this gives us exactly what we need to find out which books are popular and filter out lesser-known books.\n",
        "rating_with_totalRatingCount = combine_book_rating.merge(book_ratingCount, left_on = 'bookTitle', right_on = 'bookTitle', how = 'left')\n",
        "rating_with_totalRatingCount.head()"
      ],
      "metadata": {
        "id": "CCpzLItc85XD"
      },
      "execution_count": null,
      "outputs": []
    },
    {
      "cell_type": "code",
      "source": [
        "# Let’s look at the statistics of total rating count:\n",
        "pd.set_option('display.float_format', lambda x: '%.3f' % x)\n",
        "print(book_ratingCount['totalRatingCount'].describe())"
      ],
      "metadata": {
        "id": "FeXTU50m8-au"
      },
      "execution_count": null,
      "outputs": []
    },
    {
      "cell_type": "code",
      "source": [
        "# The median book has been rated only once. Let’s look at the top of the distribution:\n",
        "\n",
        "print(book_ratingCount['totalRatingCount'].quantile(np.arange(.9, 1, .01)))"
      ],
      "metadata": {
        "id": "iVhLIsi99HBt"
      },
      "execution_count": null,
      "outputs": []
    },
    {
      "cell_type": "code",
      "source": [
        "# About 1% of the books received 50 or more ratings. Because we have so many books in our data, we will limit it to the top 1%, and this will give us 2713 unique books.\n",
        "\n",
        "popularity_threshold = 50\n",
        "rating_popular_book = rating_with_totalRatingCount.query('totalRatingCount >= @popularity_threshold')\n",
        "rating_popular_book.head()"
      ],
      "metadata": {
        "id": "3mXNEb_l9L4T"
      },
      "execution_count": null,
      "outputs": []
    },
    {
      "cell_type": "code",
      "source": [
        "# Filter to users in US and Canada only\n",
        "\n",
        "combined = rating_popular_book.merge(users, left_on = 'userID', right_on = 'userID', how = 'left')\n",
        "\n",
        "us_canada_user_rating = combined[combined['Location'].str.contains(\"usa|canada\")]\n",
        "us_canada_user_rating=us_canada_user_rating.drop('Age', axis=1)\n",
        "us_canada_user_rating.head()"
      ],
      "metadata": {
        "id": "lEC0qDvn9Rxp"
      },
      "execution_count": null,
      "outputs": []
    },
    {
      "cell_type": "code",
      "source": [
        "# Implementing kNN\n",
        "\n",
        "us_canada_user_rating = us_canada_user_rating.drop_duplicates(['userID', 'bookTitle'])\n",
        "us_canada_user_rating_pivot = us_canada_user_rating.pivot(index = 'bookTitle', columns = 'userID', values = 'bookRating').fillna(0)\n",
        "us_canada_user_rating_matrix = csr_matrix(us_canada_user_rating_pivot.values)\n",
        "\n",
        "from sklearn.neighbors import NearestNeighbors\n",
        "\n",
        "model_knn = NearestNeighbors(metric = 'cosine', algorithm = 'brute')\n",
        "model_knn.fit(us_canada_user_rating_matrix)"
      ],
      "metadata": {
        "id": "crh8FpKL9WkD"
      },
      "execution_count": null,
      "outputs": []
    },
    {
      "cell_type": "code",
      "source": [
        "# Import NearestNeighbors\n",
        "from sklearn.neighbors import NearestNeighbors\n",
        "\n",
        "# Build NearestNeighbors Object\n",
        "model_nn = NearestNeighbors(metric='cosine', algorithm='brute', n_neighbors=7, n_jobs=-1)\n",
        "\n",
        "# Fit the NearestNeighbor\n",
        "model_nn.fit(rating_books_pivot)"
      ],
      "metadata": {
        "id": "sGK_wtw4LioR"
      },
      "execution_count": null,
      "outputs": []
    },
    {
      "cell_type": "code",
      "source": [
        "# Get top 10 nearest neighbors\n",
        "indices=model_nn.kneighbors(rating_books_pivot.loc[['10 Secrets for Success and Inner Peace']], 10, return_distance=False)\n",
        "\n",
        "# Print the recommended books\n",
        "print(\"Recommended Books:\")\n",
        "print(\"==================\")\n",
        "for index, value in enumerate(rating_books_pivot.index[indices][0]):\n",
        "    print((index+1),\". \",value)"
      ],
      "metadata": {
        "id": "kl-WgYyYLqIH"
      },
      "execution_count": null,
      "outputs": []
    }
  ]
}